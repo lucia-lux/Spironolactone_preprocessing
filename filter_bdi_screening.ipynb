{
 "cells": [
  {
   "cell_type": "code",
   "execution_count": 1,
   "metadata": {},
   "outputs": [],
   "source": [
    "import os\n",
    "import re\n",
    "import numpy as np\n",
    "import pandas as pd\n",
    "import warnings"
   ]
  },
  {
   "cell_type": "code",
   "execution_count": 2,
   "metadata": {},
   "outputs": [],
   "source": [
    "def get_num_from_string(input_string):\n",
    "    \"\"\"\n",
    "    Get digits from string and join\n",
    "\n",
    "    Parameters:\n",
    "    -----------\n",
    "    input_string:   str\n",
    "        string to extract numbers from\n",
    "\n",
    "    Returns\n",
    "    -------\n",
    "     integer representing joined digits\n",
    "     extracted from string\n",
    "    \"\"\"\n",
    "    try:\n",
    "        my_list = [s for s in input_string if s.isdigit()]\n",
    "    except TypeError:\n",
    "        return np.nan\n",
    "    return float(''.join(my_list))\n",
    "    \n",
    "def remove_unwanted_char(input_str):\n",
    "    \"\"\"\n",
    "    People enter various different \n",
    "    characters when they are meant to\n",
    "    enter only numbers.\n",
    "    Hence, this function ;)\n",
    "\n",
    "    Parameters\n",
    "    ----------\n",
    "    input_str:  str\n",
    "        string to process\n",
    "    \n",
    "    Returns\n",
    "        either nan if TypeError encountered\n",
    "        (input not string) or the input with\n",
    "        characters removed as a floating point\n",
    "        number.\n",
    "    \"\"\"\n",
    "    try:\n",
    "        new_val = ''.join(re.findall(r\"\\d+\",input_str))\n",
    "    except TypeError:\n",
    "        return np.nan\n",
    "    return float(new_val)"
   ]
  },
  {
   "cell_type": "markdown",
   "metadata": {},
   "source": [
    "specify filepaths and read in the files we need."
   ]
  },
  {
   "cell_type": "code",
   "execution_count": 3,
   "metadata": {},
   "outputs": [
    {
     "name": "stdout",
     "output_type": "stream",
     "text": [
      "Found 49 records in total.\n",
      "Number of duplicate screening IDs in records is 3.\n",
      "\n"
     ]
    },
    {
     "name": "stderr",
     "output_type": "stream",
     "text": [
      "<ipython-input-3-d9f0d02847cd>:10: UserWarning: Directory already exists. Files may be overwritten. Manual check advised.\n",
      "  warnings.warn(\"Directory already exists. Files may be overwritten. Manual check advised.\")\n"
     ]
    }
   ],
   "source": [
    "randomisation_dir = r\"P:\\Spironolactone\\screening_randomization\"\n",
    "main_qualtrics_dir = r\"P:\\Spironolactone\\main_qualtrics\"\n",
    "\n",
    "# output directory\n",
    "output_dir = os.path.join(randomisation_dir,\"valid_screening_records\")\n",
    "try:\n",
    "    os.mkdir(output_dir)\n",
    "except OSError:\n",
    "    # if directory already exists\n",
    "    warnings.warn(\"Directory already exists. Files may be overwritten. Manual check advised.\")\n",
    "\n",
    "\n",
    "# cols we want from screening\n",
    "BDI_cols = [''.join([\"Q\",str(num)]) for num in np.arange(72,93)]\n",
    "BDI_cols.extend([\"Telephone number\"])\n",
    "\n",
    "# read in the dataframes\n",
    "# study day qualtrics\n",
    "qualtrics_df = pd.read_csv(\n",
    "    os.path.join(main_qualtrics_dir,\"main_dat21.csv\"),\n",
    "    usecols = [\"DQ-1\"],skiprows = [1,2]\n",
    "    )\n",
    "\n",
    "# randomisation\n",
    "randomisation_df = pd.read_csv(\n",
    "    os.path.join(randomisation_dir,\"randomisation.csv\")\n",
    "    )\n",
    "\n",
    "# screening - contains BDI score\n",
    "screening_df = pd.read_csv(\n",
    "    os.path.join(randomisation_dir,\"online_screening.csv\"),\n",
    "    usecols = BDI_cols, skiprows = [1,2]\n",
    "    )\n",
    "\n",
    "# just for convenience, rename column that links\n",
    "# randomisation and screening dfs.\n",
    "screening_df = screening_df.rename(\n",
    "    {\"Telephone number\":\"Screening ID\"},axis = 1\n",
    "    )\n",
    "\n",
    "# convert screening ID to number\n",
    "# removes the two initials at the start\n",
    "randomisation_df[\"Screening ID\"] = randomisation_df[\"Screening ID\"].apply(\n",
    "    lambda x: get_num_from_string(x)\n",
    "    )\n",
    "\n",
    "# filter out people who haven't been assigned a study day date \n",
    "# and who have no check against the day 8 questionnaire\n",
    "randomisation_df = randomisation_df[\n",
    "    randomisation_df[\"Study day complete /date\"].notnull()\n",
    "    & randomisation_df[\"Check.7\"].notnull()\n",
    "    ]\n",
    "\n",
    "# I was pleased to find that people have not stopped\n",
    "# entering ALL SORTS of stuff when they should only\n",
    "# enter a number...hence I needed to remove some special characters.\n",
    "screening_df[\"Screening ID\"] = screening_df[\"Screening ID\"].apply(\n",
    "    lambda x: remove_unwanted_char(x)\n",
    "    )\n",
    "\n",
    "# Finally, filter for screening records with a screening id that also\n",
    "# exists in the randomisation file.\n",
    "valid_participants_df = screening_df[\n",
    "    screening_df[\"Screening ID\"].isin(randomisation_df[\"Screening ID\"])\n",
    "    ]\n",
    "\n",
    "print(f\"Found {valid_participants_df.shape[0]} records in total.\")\n",
    "\n",
    "num_duplicates = (valid_participants_df.shape[0] - \n",
    "    valid_participants_df[\"Screening ID\"].unique().shape[0]\n",
    "    )\n",
    "\n",
    "valid_participants_df.to_csv(os.path.join(output_dir,\"valid_participants.csv\"),index = False)\n",
    "\n",
    "print(f\"Number of duplicate screening IDs in records is {num_duplicates}.\\n\")"
   ]
  }
 ],
 "metadata": {
  "interpreter": {
   "hash": "48186e61764c8c514947f0ef500accf59797b98e64cdc910e21ec2975c1f1025"
  },
  "kernelspec": {
   "display_name": "Python 3.9.4 64-bit",
   "language": "python",
   "name": "python3"
  },
  "language_info": {
   "codemirror_mode": {
    "name": "ipython",
    "version": 3
   },
   "file_extension": ".py",
   "mimetype": "text/x-python",
   "name": "python",
   "nbconvert_exporter": "python",
   "pygments_lexer": "ipython3",
   "version": "3.9.4"
  },
  "orig_nbformat": 4
 },
 "nbformat": 4,
 "nbformat_minor": 2
}
