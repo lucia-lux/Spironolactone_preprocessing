{
 "cells": [
  {
   "cell_type": "code",
   "execution_count": 1,
   "metadata": {},
   "outputs": [],
   "source": [
    "import os\n",
    "import datetime\n",
    "import pandas as pd\n",
    "import numpy as np"
   ]
  },
  {
   "cell_type": "code",
   "execution_count": 119,
   "metadata": {},
   "outputs": [],
   "source": [
    "main_dir = r\"P:\\Spironolactone\\main_qualtrics\"\n",
    "hrv_dir = r\"P:\\Spironolactone\\Firstbeat\"\n",
    "e4_dirs = os.listdir(r\"P:\\Spironolactone\\E4\")\n",
    "hrv_files = [file for file in os.listdir(hrv_dir) if file.lower().startswith('p') and file.endswith('.csv')]"
   ]
  },
  {
   "cell_type": "code",
   "execution_count": 110,
   "metadata": {},
   "outputs": [],
   "source": [
    "col_list =  [\"Status\",\"DQ-1\",\"Firstbeat_on_time\",\"baseline start\",\"baseline end\",\"Q645\",\"Q646\",\"FILM-START\",\"Q648\",\"Q649\"]\n",
    "new_names = [\"response_type\",\"Participant_number\",\"Firstbeat_start\",\"RT1_start\",\"RT1_end\",\"RT2_start\",\"RT2_end\",\"Film_start\",\"RT3_start\",\"RT3_end\"]\n",
    "qualtrics_df = pd.read_csv(os.path.join(main_dir,\"main_dat.csv\"),usecols =col_list,skiprows= [1,2])\n",
    "qualtrics_df.columns = new_names"
   ]
  },
  {
   "cell_type": "code",
   "execution_count": 85,
   "metadata": {},
   "outputs": [],
   "source": [
    "def remove_invalid_records(in_df, exclude_pnums = None):\n",
    "    \"\"\"\n",
    "    remove invalid records\n",
    "\n",
    "    Parameters\n",
    "    ----------\n",
    "    in_df:  pd DataFrame\n",
    "        dataframe to operate on\n",
    "    exclude_pnums: list[int]\n",
    "        participant numbers to drop\n",
    "        (eg if their records are excluded\n",
    "        from further analysis)\n",
    "    Returns\n",
    "    -------\n",
    "        dataframe w/o invalid records\n",
    "    \"\"\"\n",
    "    # participant number cannot be nan and must be <100\n",
    "    in_df = in_df[(in_df.Participant_number.notna())\n",
    "                    &(in_df.Participant_number<100)]\n",
    "    if exclude_pnums:\n",
    "        in_df = in_df.drop(labels = in_df[\n",
    "                in_df.Participant_number.isin(exclude_pnums)].index,\n",
    "                axis = 0)\n",
    "    return in_df\n",
    "    \n",
    "def remove_duplicate_participants(in_df):\n",
    "    \"\"\"\n",
    "    If we have duplicate records\n",
    "    for a given participant, remove\n",
    "    one if it is all nans.\n",
    "\n",
    "    Parameters\n",
    "    ----------\n",
    "    in_df:  pd Dataframe\n",
    "\n",
    "    Returns\n",
    "    -------\n",
    "        in_df w/o all nan duplicates\n",
    "    \"\"\"\n",
    "    duplicated = in_df.loc[in_df.duplicated(subset = \"Participant_number\"),\"Participant_number\"]\n",
    "    if duplicated is None:\n",
    "        return in_df\n",
    "    else:\n",
    "        drop_inds = []\n",
    "        for dup in duplicated:\n",
    "            nan_sum = in_df[in_df.Participant_number == dup].isna().sum(axis = 1)\n",
    "            nan_max_ind = nan_sum[nan_sum == nan_sum.max()].index\n",
    "            drop_inds.append(nan_max_ind[0])\n",
    "        in_df = in_df.drop(labels = drop_inds, axis = 0)\n",
    "        return in_df        \n"
   ]
  },
  {
   "cell_type": "code",
   "execution_count": 111,
   "metadata": {},
   "outputs": [],
   "source": [
    "qualtrics_df = remove_invalid_records(qualtrics_df,exclude_pnums = [1])\n",
    "qualtrics_df = remove_duplicate_participants(qualtrics_df)\n"
   ]
  },
  {
   "cell_type": "code",
   "execution_count": 126,
   "metadata": {},
   "outputs": [],
   "source": [
    "import warnings\n",
    "def select_hrv_record(pnum,hrv_files):\n",
    "    \"\"\"\n",
    "    select hrv file for participant\n",
    "    \n",
    "    Parameters\n",
    "    ----------\n",
    "    pnum:   int or float\n",
    "        participant number whos record\n",
    "        needs to be retrieved\n",
    "    hrv_files:  list[str]\n",
    "        list of hrv files\n",
    "    \n",
    "    Returns\n",
    "    -------\n",
    "        name of hrv file for participant pnum (str)\n",
    "    \"\"\"\n",
    "    recs = [file for file in hrv_files if int(file[1:4])==pnum]\n",
    "    if len(recs)>1:\n",
    "        warnings.warn(\"Found more than one file for this participant.\\nManual check advised.\")\n",
    "        recs = recs[0]\n",
    "    return recs.pop()\n",
    "    \n",
    "    "
   ]
  },
  {
   "cell_type": "code",
   "execution_count": 173,
   "metadata": {},
   "outputs": [
    {
     "name": "stdout",
     "output_type": "stream",
     "text": [
      "['Firstbeat_start', 'RT1_start', 'RT1_end', 'RT2_start', 'RT2_end', 'Film_start', 'RT3_start', 'RT3_end']\n",
      "RT2_start cannot be converted to datetime format. Manual check advised.\n"
     ]
    }
   ],
   "source": [
    "time_cols = [col for col in qualtrics_df.columns if any(k in col for k in [\"start\",\"end\"])]\n",
    "print(time_cols)\n",
    "for col in time_cols:\n",
    "    try:\n",
    "        qualtrics_df[col] = pd.to_datetime(qualtrics_df[col])\n",
    "    except ValueError:\n",
    "        print(f\"{col} cannot be converted to datetime format. Manual check advised.\")"
   ]
  },
  {
   "cell_type": "code",
   "execution_count": 175,
   "metadata": {},
   "outputs": [
    {
     "data": {
      "text/plain": [
       "9    0 days 00:55:00\n",
       "10   0 days 00:37:00\n",
       "11   0 days 00:39:00\n",
       "12   0 days 00:46:00\n",
       "14   0 days 00:33:00\n",
       "15   0 days 00:46:00\n",
       "16   0 days 00:39:00\n",
       "17   0 days 01:00:00\n",
       "18   0 days 00:53:00\n",
       "19   0 days 00:39:00\n",
       "20   0 days 00:31:00\n",
       "21   0 days 00:37:00\n",
       "22   0 days 00:32:00\n",
       "23   0 days 00:38:00\n",
       "24   0 days 00:31:00\n",
       "25   0 days 00:47:00\n",
       "26   0 days 00:41:00\n",
       "27   0 days 00:41:00\n",
       "28   0 days 00:39:00\n",
       "29   0 days 00:28:00\n",
       "30   0 days 00:32:00\n",
       "31   0 days 00:43:00\n",
       "32   0 days 00:47:00\n",
       "33   0 days 00:39:00\n",
       "34   0 days 00:42:00\n",
       "35   0 days 00:34:00\n",
       "36   0 days 00:34:00\n",
       "37   0 days 00:43:00\n",
       "38   0 days 00:33:00\n",
       "39   0 days 00:39:00\n",
       "40   0 days 00:33:00\n",
       "41   0 days 00:28:00\n",
       "42   0 days 00:31:00\n",
       "43   0 days 00:28:00\n",
       "44   0 days 00:17:00\n",
       "45   0 days 00:35:00\n",
       "46   0 days 00:35:00\n",
       "47   0 days 00:41:00\n",
       "48   0 days 00:45:00\n",
       "49   0 days 00:40:00\n",
       "dtype: timedelta64[ns]"
      ]
     },
     "execution_count": 175,
     "metadata": {},
     "output_type": "execute_result"
    }
   ],
   "source": [
    "qualtrics_df.RT1_start - qualtrics_df.Firstbeat_start"
   ]
  },
  {
   "cell_type": "code",
   "execution_count": 128,
   "metadata": {},
   "outputs": [],
   "source": [
    "my_rec = select_hrv_record(3,hrv_files)"
   ]
  },
  {
   "cell_type": "code",
   "execution_count": null,
   "metadata": {},
   "outputs": [],
   "source": [
    "class FirsbeatTimings:\n",
    "    \"\"\" get firstbeat relative timings\"\"\"\n",
    "    def __init__(self,hrv_filename,hrv_filepath):\n",
    "        self.filename = hrv_filename\n",
    "        self.filepath = hrv_filepath\n",
    "    \n",
    "    def get_rel_times(self,pnum,in_df):\n",
    "        \"\"\"\n",
    "        get relative times to identify HRV sections\n",
    "\n",
    "        \"\"\"\n",
    "        \n",
    "\n",
    "    def get_firstbeat_times(self,starttime = None, endtime = None, tag_name):\n",
    "        \"\"\"\n",
    "        Get start time in Firstbeat ref time\n",
    "\n",
    "        Parameters\n",
    "        ----------\n",
    "        starttime:  interval start time (rel time from qualtrics firstbeat tag)\n",
    "        endtime:    interval end time (rel time from qualtrics firstbeat tag)\n",
    "        tag_name:   str\n",
    "            indicator of tag type (eg \"film_start\")\n",
    "        \n",
    "        Returns\n",
    "        -------\n",
    "        \n",
    "        \n",
    "        \"\"\"\n",
    "        hrv_frame = pd.read_csv(os.path.join(self.filepath,self.filename),\n",
    "                                header = 0, names = [\"IB_intervals\"],\n",
    "                                skiprows= np.arange(0,4))\n",
    "        \n",
    "        \n"
   ]
  },
  {
   "cell_type": "code",
   "execution_count": 138,
   "metadata": {},
   "outputs": [],
   "source": [
    "my_file = pd.read_csv(os.path.join(hrv_dir,my_rec),header = 0, names = [\"IB_intervals\"],skiprows = np.arange(0,4))"
   ]
  }
 ],
 "metadata": {
  "interpreter": {
   "hash": "48186e61764c8c514947f0ef500accf59797b98e64cdc910e21ec2975c1f1025"
  },
  "kernelspec": {
   "display_name": "Python 3.9.4 64-bit",
   "language": "python",
   "name": "python3"
  },
  "language_info": {
   "codemirror_mode": {
    "name": "ipython",
    "version": 3
   },
   "file_extension": ".py",
   "mimetype": "text/x-python",
   "name": "python",
   "nbconvert_exporter": "python",
   "pygments_lexer": "ipython3",
   "version": "3.9.4"
  },
  "orig_nbformat": 4
 },
 "nbformat": 4,
 "nbformat_minor": 2
}
